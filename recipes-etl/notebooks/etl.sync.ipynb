{
 "cells": [
  {
   "cell_type": "code",
   "execution_count": 4,
   "id": "39218db5",
   "metadata": {},
   "outputs": [],
   "source": [
    "from urllib import request\n",
    "from os import path, makedirs"
   ]
  },
  {
   "cell_type": "code",
   "execution_count": 6,
   "id": "08d6cc92",
   "metadata": {},
   "outputs": [
    {
     "data": {
      "text/plain": [
       "('../data/recipes.json', <http.client.HTTPMessage at 0x1076c3c10>)"
      ]
     },
     "execution_count": 6,
     "metadata": {},
     "output_type": "execute_result"
    }
   ],
   "source": [
    "URL = \"https://bnlf-tests.s3.eu-central-1.amazonaws.com/recipes.json\"\n",
    "FOLDER = '../data'\n",
    "LOCAL_FILE = f\"{FOLDER}/recipes.json\"\n",
    "\n",
    "if not path.exists(FOLDER):\n",
    "    makedirs(FOLDER)\n",
    "\n",
    "request.urlretrieve(URL, LOCAL_FILE)"
   ]
  },
  {
   "cell_type": "code",
   "execution_count": 15,
   "id": "1cba870d",
   "metadata": {},
   "outputs": [
    {
     "data": {
      "text/plain": [
       "polars.config.Config"
      ]
     },
     "execution_count": 15,
     "metadata": {},
     "output_type": "execute_result"
    }
   ],
   "source": [
    "import polars as pl\n",
    "\n",
    "pl.Config.set_fmt_str_lengths(300)"
   ]
  },
  {
   "cell_type": "code",
   "execution_count": 16,
   "id": "61736e1b",
   "metadata": {},
   "outputs": [
    {
     "data": {
      "text/html": [
       "<div><style>\n",
       ".dataframe > thead > tr > th,\n",
       ".dataframe > tbody > tr > td {\n",
       "  text-align: right;\n",
       "}\n",
       "</style>\n",
       "<small>shape: (5, 7)</small><table border=\"1\" class=\"dataframe\"><thead><tr><th>name</th><th>ingredients</th><th>cookTime</th><th>recipeYield</th><th>datePublished</th><th>prepTime</th><th>description</th></tr><tr><td>str</td><td>str</td><td>str</td><td>str</td><td>str</td><td>str</td><td>str</td></tr></thead><tbody><tr><td>&quot;Easter Leftover Sandwich&quot;</td><td>&quot;12 whole Hard Boiled Eggs\n",
       "1/2 cup Mayonnaise\n",
       "3 Tablespoons Grainy Dijon Mustard\n",
       " Salt And Pepper, to taste\n",
       " Several Dashes Worcestershire Sauce\n",
       " Leftover Baked Ham, Sliced\n",
       " Kaiser Rolls Or Other Bread\n",
       " Extra Mayonnaise And Dijon, For Spreading\n",
       " Swiss Cheese Or Other Cheese Slices\n",
       " Thinly Sliced Red…</td><td>&quot;PT&quot;</td><td>&quot;8&quot;</td><td>&quot;2013-04-01&quot;</td><td>&quot;PT15M&quot;</td><td>&quot;Got leftover Easter eggs?    Got leftover Easter ham?    Got a hearty appetite?    Good! You&#x27;ve come to the right place!    I...&quot;</td></tr><tr><td>&quot;Pasta with Pesto Cream Sauce&quot;</td><td>&quot;3/4 cups Fresh Basil Leaves\n",
       "1/2 cup Grated Parmesan Cheese\n",
       "3 Tablespoons Pine Nuts\n",
       "2 cloves Garlic, Peeled\n",
       " Salt And Pepper, to taste\n",
       "1/3 cup Extra Virgin Olive Oil\n",
       "1/2 cup Heavy Cream\n",
       "2 Tablespoons Butter\n",
       "1/4 cup Grated Parmesan (additional)\n",
       "12 ounces, weight Pasta (cavitappi, Fusili, Etc.)\n",
       "2 whol…</td><td>&quot;PT10M&quot;</td><td>&quot;8&quot;</td><td>&quot;2011-06-06&quot;</td><td>&quot;PT6M&quot;</td><td>&quot;I finally have basil in my garden. Basil I can use. This is a huge development.     I had no basil during the winter. None. G...&quot;</td></tr><tr><td>&quot;Herb Roasted Pork Tenderloin with Preserves&quot;</td><td>&quot;2 whole Pork Tenderloins\n",
       " Salt And Pepper, to taste\n",
       "8 Tablespoons Herbs De Provence (more If Needed\n",
       "1 cup Preserves (fig, Peach, Plum)\n",
       "1 cup Water\n",
       "1 Tablespoon Vinegar&quot;</td><td>&quot;PT15M&quot;</td><td>&quot;12&quot;</td><td>&quot;2011-09-15&quot;</td><td>&quot;PT5M&quot;</td><td>&quot;This was yummy. And easy. And pretty! And it took basically no time to make.     Before I share the recipe, I&#x27;ll just say it:...&quot;</td></tr><tr><td>&quot;Chicken Florentine Pasta&quot;</td><td>&quot;1 pound Penne\n",
       "4 whole Boneless, Skinless Chicken Breasts\n",
       " Salt And Pepper, to taste\n",
       "2 Tablespoons Butter\n",
       "2 Tablespoons Olive Oil\n",
       "4 cloves Garlic, Minced\n",
       "3/4 cups Dry White Wine\n",
       "3/4 cups Low-sodium Broth, More If Needed\n",
       "1 bag Baby Spinach\n",
       "2 cups Grape Tomatoes, Halved Lengthwise\n",
       "4 ounces, weight Par…</td><td>&quot;PT20M&quot;</td><td>&quot;10&quot;</td><td>&quot;2012-04-23&quot;</td><td>&quot;PT10M&quot;</td><td>&quot;I made this for a late lunch Saturday, and it absolutely completed me. It also absolutely completed my fourteen-year-old daug...&quot;</td></tr><tr><td>&quot;Perfect Iced Coffee&quot;</td><td>&quot;1 pound Ground Coffee (good, Rich Roast)\n",
       "8 quarts Cold Water\n",
       " Half-and-half (healthy Splash Per Serving)\n",
       " Sweetened Condensed Milk (2-3 Tablespoons Per Serving)\n",
       " Note: Can Use Skim Milk, 2% Milk, Whole Milk, Sugar, Artificial Sweeteners, Syrups...adapt To Your Liking!&quot;</td><td>&quot;PT&quot;</td><td>&quot;24&quot;</td><td>&quot;2011-06-13&quot;</td><td>&quot;PT8H&quot;</td><td>&quot;Iced coffee is my life. When I wake up, often around the time party animals on the west coast are just heading home, I start ...&quot;</td></tr></tbody></table></div>"
      ],
      "text/plain": [
       "shape: (5, 7)\n",
       "┌───────────────┬───────────────┬──────────┬─────────────┬───────────────┬──────────┬──────────────┐\n",
       "│ name          ┆ ingredients   ┆ cookTime ┆ recipeYield ┆ datePublished ┆ prepTime ┆ description  │\n",
       "│ ---           ┆ ---           ┆ ---      ┆ ---         ┆ ---           ┆ ---      ┆ ---          │\n",
       "│ str           ┆ str           ┆ str      ┆ str         ┆ str           ┆ str      ┆ str          │\n",
       "╞═══════════════╪═══════════════╪══════════╪═════════════╪═══════════════╪══════════╪══════════════╡\n",
       "│ Easter        ┆ 12 whole Hard ┆ PT       ┆ 8           ┆ 2013-04-01    ┆ PT15M    ┆ Got leftover │\n",
       "│ Leftover      ┆ Boiled Eggs   ┆          ┆             ┆               ┆          ┆ Easter eggs? │\n",
       "│ Sandwich      ┆ 1/2 cup       ┆          ┆             ┆               ┆          ┆ Got leftover │\n",
       "│               ┆ Mayonnaise    ┆          ┆             ┆               ┆          ┆ Easter ham?  │\n",
       "│               ┆ 3 Tablespoons ┆          ┆             ┆               ┆          ┆ Got a hearty │\n",
       "│               ┆ Grainy Dijon  ┆          ┆             ┆               ┆          ┆ appetite?    │\n",
       "│               ┆ Mustard       ┆          ┆             ┆               ┆          ┆ Good! You've │\n",
       "│               ┆ Salt And      ┆          ┆             ┆               ┆          ┆ come to the  │\n",
       "│               ┆ Pepper, to    ┆          ┆             ┆               ┆          ┆ right place! │\n",
       "│               ┆ taste         ┆          ┆             ┆               ┆          ┆ I...         │\n",
       "│               ┆ Several       ┆          ┆             ┆               ┆          ┆              │\n",
       "│               ┆ Dashes Worces ┆          ┆             ┆               ┆          ┆              │\n",
       "│               ┆ tershire      ┆          ┆             ┆               ┆          ┆              │\n",
       "│               ┆ Sauce         ┆          ┆             ┆               ┆          ┆              │\n",
       "│               ┆ Leftover      ┆          ┆             ┆               ┆          ┆              │\n",
       "│               ┆ Baked Ham,    ┆          ┆             ┆               ┆          ┆              │\n",
       "│               ┆ Sliced        ┆          ┆             ┆               ┆          ┆              │\n",
       "│               ┆ Kaiser Rolls  ┆          ┆             ┆               ┆          ┆              │\n",
       "│               ┆ Or Other      ┆          ┆             ┆               ┆          ┆              │\n",
       "│               ┆ Bread         ┆          ┆             ┆               ┆          ┆              │\n",
       "│               ┆ Extra         ┆          ┆             ┆               ┆          ┆              │\n",
       "│               ┆ Mayonnaise    ┆          ┆             ┆               ┆          ┆              │\n",
       "│               ┆ And Dijon,    ┆          ┆             ┆               ┆          ┆              │\n",
       "│               ┆ For Spreading ┆          ┆             ┆               ┆          ┆              │\n",
       "│               ┆ Swiss Cheese  ┆          ┆             ┆               ┆          ┆              │\n",
       "│               ┆ Or Other      ┆          ┆             ┆               ┆          ┆              │\n",
       "│               ┆ Cheese Slices ┆          ┆             ┆               ┆          ┆              │\n",
       "│               ┆ Thinly Sliced ┆          ┆             ┆               ┆          ┆              │\n",
       "│               ┆ Red …         ┆          ┆             ┆               ┆          ┆              │\n",
       "│ Pasta with    ┆ 3/4 cups      ┆ PT10M    ┆ 8           ┆ 2011-06-06    ┆ PT6M     ┆ I finally    │\n",
       "│ Pesto Cream   ┆ Fresh Basil   ┆          ┆             ┆               ┆          ┆ have basil   │\n",
       "│ Sauce         ┆ Leaves        ┆          ┆             ┆               ┆          ┆ in my        │\n",
       "│               ┆ 1/2 cup       ┆          ┆             ┆               ┆          ┆ garden.      │\n",
       "│               ┆ Grated        ┆          ┆             ┆               ┆          ┆ Basil I can  │\n",
       "│               ┆ Parmesan      ┆          ┆             ┆               ┆          ┆ use. This is │\n",
       "│               ┆ Cheese        ┆          ┆             ┆               ┆          ┆ a huge       │\n",
       "│               ┆ 3 Tablespoons ┆          ┆             ┆               ┆          ┆ development. │\n",
       "│               ┆ Pine Nuts     ┆          ┆             ┆               ┆          ┆ I had no     │\n",
       "│               ┆ 2 cloves      ┆          ┆             ┆               ┆          ┆ basil during │\n",
       "│               ┆ Garlic,       ┆          ┆             ┆               ┆          ┆ the winter.  │\n",
       "│               ┆ Peeled        ┆          ┆             ┆               ┆          ┆ None. G...   │\n",
       "│               ┆ Salt And      ┆          ┆             ┆               ┆          ┆              │\n",
       "│               ┆ Pepper, to    ┆          ┆             ┆               ┆          ┆              │\n",
       "│               ┆ taste         ┆          ┆             ┆               ┆          ┆              │\n",
       "│               ┆ 1/3 cup Extra ┆          ┆             ┆               ┆          ┆              │\n",
       "│               ┆ Virgin Olive  ┆          ┆             ┆               ┆          ┆              │\n",
       "│               ┆ Oil           ┆          ┆             ┆               ┆          ┆              │\n",
       "│               ┆ 1/2 cup Heavy ┆          ┆             ┆               ┆          ┆              │\n",
       "│               ┆ Cream         ┆          ┆             ┆               ┆          ┆              │\n",
       "│               ┆ 2 Tablespoons ┆          ┆             ┆               ┆          ┆              │\n",
       "│               ┆ Butter        ┆          ┆             ┆               ┆          ┆              │\n",
       "│               ┆ 1/4 cup       ┆          ┆             ┆               ┆          ┆              │\n",
       "│               ┆ Grated        ┆          ┆             ┆               ┆          ┆              │\n",
       "│               ┆ Parmesan      ┆          ┆             ┆               ┆          ┆              │\n",
       "│               ┆ (additional)  ┆          ┆             ┆               ┆          ┆              │\n",
       "│               ┆ 12 ounces,    ┆          ┆             ┆               ┆          ┆              │\n",
       "│               ┆ weight Pasta  ┆          ┆             ┆               ┆          ┆              │\n",
       "│               ┆ (cavitappi,   ┆          ┆             ┆               ┆          ┆              │\n",
       "│               ┆ Fusili, Etc.) ┆          ┆             ┆               ┆          ┆              │\n",
       "│               ┆ 2 whole…      ┆          ┆             ┆               ┆          ┆              │\n",
       "│ Herb Roasted  ┆ 2 whole Pork  ┆ PT15M    ┆ 12          ┆ 2011-09-15    ┆ PT5M     ┆ This was     │\n",
       "│ Pork          ┆ Tenderloins   ┆          ┆             ┆               ┆          ┆ yummy. And   │\n",
       "│ Tenderloin    ┆ Salt And      ┆          ┆             ┆               ┆          ┆ easy. And    │\n",
       "│ with          ┆ Pepper, to    ┆          ┆             ┆               ┆          ┆ pretty! And  │\n",
       "│ Preserves     ┆ taste         ┆          ┆             ┆               ┆          ┆ it took      │\n",
       "│               ┆ 8 Tablespoons ┆          ┆             ┆               ┆          ┆ basically no │\n",
       "│               ┆ Herbs De      ┆          ┆             ┆               ┆          ┆ time to      │\n",
       "│               ┆ Provence      ┆          ┆             ┆               ┆          ┆ make.        │\n",
       "│               ┆ (more If      ┆          ┆             ┆               ┆          ┆ Before I     │\n",
       "│               ┆ Needed        ┆          ┆             ┆               ┆          ┆ share the    │\n",
       "│               ┆ 1 cup         ┆          ┆             ┆               ┆          ┆ recipe, I'll │\n",
       "│               ┆ Preserves     ┆          ┆             ┆               ┆          ┆ just say     │\n",
       "│               ┆ (fig, Peach,  ┆          ┆             ┆               ┆          ┆ it:...       │\n",
       "│               ┆ Plum)         ┆          ┆             ┆               ┆          ┆              │\n",
       "│               ┆ 1 cup Water   ┆          ┆             ┆               ┆          ┆              │\n",
       "│               ┆ 1 Tablespoon  ┆          ┆             ┆               ┆          ┆              │\n",
       "│               ┆ Vinegar       ┆          ┆             ┆               ┆          ┆              │\n",
       "│ Chicken       ┆ 1 pound Penne ┆ PT20M    ┆ 10          ┆ 2012-04-23    ┆ PT10M    ┆ I made this  │\n",
       "│ Florentine    ┆ 4 whole       ┆          ┆             ┆               ┆          ┆ for a late   │\n",
       "│ Pasta         ┆ Boneless,     ┆          ┆             ┆               ┆          ┆ lunch        │\n",
       "│               ┆ Skinless      ┆          ┆             ┆               ┆          ┆ Saturday,    │\n",
       "│               ┆ Chicken       ┆          ┆             ┆               ┆          ┆ and it       │\n",
       "│               ┆ Breasts       ┆          ┆             ┆               ┆          ┆ absolutely   │\n",
       "│               ┆ Salt And      ┆          ┆             ┆               ┆          ┆ completed    │\n",
       "│               ┆ Pepper, to    ┆          ┆             ┆               ┆          ┆ me. It also  │\n",
       "│               ┆ taste         ┆          ┆             ┆               ┆          ┆ absolutely   │\n",
       "│               ┆ 2 Tablespoons ┆          ┆             ┆               ┆          ┆ completed my │\n",
       "│               ┆ Butter        ┆          ┆             ┆               ┆          ┆ fourteen-yea │\n",
       "│               ┆ 2 Tablespoons ┆          ┆             ┆               ┆          ┆ r-old        │\n",
       "│               ┆ Olive Oil     ┆          ┆             ┆               ┆          ┆ daug...      │\n",
       "│               ┆ 4 cloves      ┆          ┆             ┆               ┆          ┆              │\n",
       "│               ┆ Garlic,       ┆          ┆             ┆               ┆          ┆              │\n",
       "│               ┆ Minced        ┆          ┆             ┆               ┆          ┆              │\n",
       "│               ┆ 3/4 cups Dry  ┆          ┆             ┆               ┆          ┆              │\n",
       "│               ┆ White Wine    ┆          ┆             ┆               ┆          ┆              │\n",
       "│               ┆ 3/4 cups      ┆          ┆             ┆               ┆          ┆              │\n",
       "│               ┆ Low-sodium    ┆          ┆             ┆               ┆          ┆              │\n",
       "│               ┆ Broth, More   ┆          ┆             ┆               ┆          ┆              │\n",
       "│               ┆ If Needed     ┆          ┆             ┆               ┆          ┆              │\n",
       "│               ┆ 1 bag Baby    ┆          ┆             ┆               ┆          ┆              │\n",
       "│               ┆ Spinach       ┆          ┆             ┆               ┆          ┆              │\n",
       "│               ┆ 2 cups Grape  ┆          ┆             ┆               ┆          ┆              │\n",
       "│               ┆ Tomatoes,     ┆          ┆             ┆               ┆          ┆              │\n",
       "│               ┆ Halved        ┆          ┆             ┆               ┆          ┆              │\n",
       "│               ┆ Lengthwise    ┆          ┆             ┆               ┆          ┆              │\n",
       "│               ┆ 4 ounces,     ┆          ┆             ┆               ┆          ┆              │\n",
       "│               ┆ weight Parm…  ┆          ┆             ┆               ┆          ┆              │\n",
       "│ Perfect Iced  ┆ 1 pound       ┆ PT       ┆ 24          ┆ 2011-06-13    ┆ PT8H     ┆ Iced coffee  │\n",
       "│ Coffee        ┆ Ground Coffee ┆          ┆             ┆               ┆          ┆ is my life.  │\n",
       "│               ┆ (good, Rich   ┆          ┆             ┆               ┆          ┆ When I wake  │\n",
       "│               ┆ Roast)        ┆          ┆             ┆               ┆          ┆ up, often    │\n",
       "│               ┆ 8 quarts Cold ┆          ┆             ┆               ┆          ┆ around the   │\n",
       "│               ┆ Water         ┆          ┆             ┆               ┆          ┆ time party   │\n",
       "│               ┆ Half-and-half ┆          ┆             ┆               ┆          ┆ animals on   │\n",
       "│               ┆ (healthy      ┆          ┆             ┆               ┆          ┆ the west     │\n",
       "│               ┆ Splash Per    ┆          ┆             ┆               ┆          ┆ coast are    │\n",
       "│               ┆ Serving)      ┆          ┆             ┆               ┆          ┆ just heading │\n",
       "│               ┆ Sweetened     ┆          ┆             ┆               ┆          ┆ home, I      │\n",
       "│               ┆ Condensed     ┆          ┆             ┆               ┆          ┆ start ...    │\n",
       "│               ┆ Milk (2-3     ┆          ┆             ┆               ┆          ┆              │\n",
       "│               ┆ Tablespoons   ┆          ┆             ┆               ┆          ┆              │\n",
       "│               ┆ Per Serving)  ┆          ┆             ┆               ┆          ┆              │\n",
       "│               ┆ Note: Can Use ┆          ┆             ┆               ┆          ┆              │\n",
       "│               ┆ Skim Milk, 2% ┆          ┆             ┆               ┆          ┆              │\n",
       "│               ┆ Milk, Whole   ┆          ┆             ┆               ┆          ┆              │\n",
       "│               ┆ Milk, Sugar,  ┆          ┆             ┆               ┆          ┆              │\n",
       "│               ┆ Artificial    ┆          ┆             ┆               ┆          ┆              │\n",
       "│               ┆ Sweeteners,   ┆          ┆             ┆               ┆          ┆              │\n",
       "│               ┆ Syrups...adap ┆          ┆             ┆               ┆          ┆              │\n",
       "│               ┆ t To Your     ┆          ┆             ┆               ┆          ┆              │\n",
       "│               ┆ Liking!       ┆          ┆             ┆               ┆          ┆              │\n",
       "└───────────────┴───────────────┴──────────┴─────────────┴───────────────┴──────────┴──────────────┘"
      ]
     },
     "execution_count": 16,
     "metadata": {},
     "output_type": "execute_result"
    }
   ],
   "source": [
    "df = pl.read_ndjson(LOCAL_FILE).drop(['url', 'image'])\n",
    "df.head()"
   ]
  },
  {
   "cell_type": "code",
   "execution_count": 14,
   "id": "513d00d2",
   "metadata": {},
   "outputs": [
    {
     "data": {
      "text/plain": [
       "0.6133699417114258"
      ]
     },
     "execution_count": 14,
     "metadata": {},
     "output_type": "execute_result"
    }
   ],
   "source": [
    "df.estimated_size(unit='mb')"
   ]
  }
 ],
 "metadata": {
  "kernelspec": {
   "display_name": "hf",
   "language": "python",
   "name": "hf"
  },
  "language_info": {
   "codemirror_mode": {
    "name": "ipython",
    "version": 3
   },
   "file_extension": ".py",
   "mimetype": "text/x-python",
   "name": "python",
   "nbconvert_exporter": "python",
   "pygments_lexer": "ipython3",
   "version": "3.10.10"
  }
 },
 "nbformat": 4,
 "nbformat_minor": 5
}
