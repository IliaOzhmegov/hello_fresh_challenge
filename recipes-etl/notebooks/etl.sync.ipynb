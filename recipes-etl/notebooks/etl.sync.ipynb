{
 "cells": [
  {
   "cell_type": "code",
   "execution_count": 56,
   "id": "39218db5",
   "metadata": {},
   "outputs": [],
   "source": [
    "from urllib import request\n",
    "from os import path, makedirs"
   ]
  },
  {
   "cell_type": "code",
   "execution_count": 57,
   "id": "6a09a53a",
   "metadata": {},
   "outputs": [],
   "source": [
    "URL = \"https://bnlf-tests.s3.eu-central-1.amazonaws.com/recipes.json\"\n",
    "FOLDER = '../data'\n",
    "LOCAL_FILE = f\"{FOLDER}/recipes.json\"\n",
    "\n",
    "if not path.exists(FOLDER):\n",
    "    makedirs(FOLDER)\n",
    "\n",
    "request.urlretrieve(URL, LOCAL_FILE)"
   ]
  },
  {
   "cell_type": "code",
   "execution_count": 58,
   "id": "c9506e28",
   "metadata": {},
   "outputs": [],
   "source": [
    "import polars as pl\n",
    "\n",
    "pl.Config.set_fmt_str_lengths(300)"
   ]
  },
  {
   "cell_type": "code",
   "execution_count": 59,
   "id": "625f1f52",
   "metadata": {},
   "outputs": [],
   "source": [
    "df = pl.read_ndjson(LOCAL_FILE).drop(['url', 'image'])\n",
    "df.head()"
   ]
  },
  {
   "cell_type": "code",
   "execution_count": 60,
   "id": "513d00d2",
   "metadata": {},
   "outputs": [],
   "source": [
    "df.estimated_size(unit='mb')"
   ]
  },
  {
   "cell_type": "code",
   "execution_count": 61,
   "id": "f67e17ea",
   "metadata": {},
   "outputs": [],
   "source": [
    "ingredient = \"chilie\"\n",
    "\n",
    "# Common misspellings\n",
    "n_grams = [\n",
    "        {},\n",
    "        {\n",
    "            \"v\": \"[v|f]\",\n",
    "            \"w\": \"[w|u]\",\n",
    "            \"s\": \"[s|z]\",\n",
    "            \"y\": \"[y|i]\",\n",
    "            \"x\": \"[x|ks]\"\n",
    "            },\n",
    "        {\n",
    "            \"ei\": \"[ei|ie|e|i]\",\n",
    "            \"ie\": \"[ei|ie|i|e]\",\n",
    "            \"ck\": \"[ck|c|k]\",\n",
    "            \"ph\": \"[ph|f]\"\n",
    "            }\n",
    "        ]\n",
    "\n",
    "n = len(ingredient) - 2\n",
    "for i in range(n, 0, -1):\n",
    "    two_chars = ingredient[i:i+2]\n",
    "    if two_chars in n_grams[2]:\n",
    "        ingredient = ingredient[:i] + n_grams[2][two_chars] + ingredient[i+2:]\n",
    "ingredient"
   ]
  },
  {
   "cell_type": "code",
   "execution_count": 62,
   "id": "492840bd",
   "metadata": {},
   "outputs": [],
   "source": [
    "space = r'\\s?'\n",
    "pattern = space + ingredient + space\n",
    "print(pattern)"
   ]
  },
  {
   "cell_type": "code",
   "execution_count": 63,
   "id": "e4602691",
   "metadata": {},
   "outputs": [],
   "source": [
    "(\n",
    "    df\n",
    "    .filter(pl.col('ingredients')\n",
    "            .str.to_lowercase()\n",
    "            .str.contains(pattern)\n",
    "    )\n",
    "    .shape\n",
    ")"
   ]
  },
  {
   "cell_type": "code",
   "execution_count": 64,
   "id": "4d4c52d0",
   "metadata": {},
   "outputs": [],
   "source": [
    "pl.Config.set_tbl_rows(42)\n",
    "(\n",
    "    df\n",
    "    .select(\n",
    "        pl.col('cookTime'),\n",
    "        pl.col('cookTime').str.extract(r'PT(\\d*)H').cast(pl.UInt32).alias('cooking H'),\n",
    "        pl.col('cookTime').str.extract(r'(\\d*)M')  .cast(pl.UInt32).alias('cooking M')\n",
    "    )\n",
    "    .with_columns(\n",
    "        pl.when(pl.col('cooking H').is_not_null() | pl.col('cooking M').is_not_null())\n",
    "        .then(\n",
    "            pl.col('cooking H').fill_null(0)*60 + pl.col('cooking M').fill_null(0)\n",
    "        )\n",
    "        .otherwise(\n",
    "            pl.col('cooking M')\n",
    "        )\n",
    "        .alias('cooking time')\n",
    "\n",
    "    )\n",
    "    .unique()\n",
    ")"
   ]
  },
  {
   "cell_type": "code",
   "execution_count": 65,
   "id": "14612d49",
   "metadata": {},
   "outputs": [],
   "source": [
    "def convert_to_minutes(df: pl.DataFrame, col: str, alias=None) -> pl.DataFrame:\n",
    "    if alias is None:\n",
    "        alias = col\n",
    "    return (\n",
    "            df\n",
    "            .with_columns(\n",
    "                (pl.col(col).str.extract(r'PT(\\d*)H')\n",
    "                 .cast(pl.UInt32)*60).alias(col+'_H'),\n",
    "                pl.col(col).str.extract(r'(\\d*)M')\n",
    "                .cast(pl.UInt32).alias(col+'_M')\n",
    "            )\n",
    "            .with_columns(\n",
    "                pl.coalesce(\n",
    "                    pl.col(col+'_H') + pl.col(col+'_M'),\n",
    "                    pl.col(col+'_H'),\n",
    "                    pl.col(col+'_M')\n",
    "                )\n",
    "                .alias(alias)\n",
    "            )\n",
    "            .select(pl.exclude([col+'_H', col+'_M']))\n",
    "    )"
   ]
  },
  {
   "cell_type": "code",
   "execution_count": 70,
   "id": "1d4d05c1",
   "metadata": {},
   "outputs": [],
   "source": [
    "df = (\n",
    "    df\n",
    "    .pipe(convert_to_minutes, col='cookTime', alias='cookTime_mins')\n",
    "    .pipe(convert_to_minutes, col='prepTime', alias='prepTime_mins')\n",
    "\n",
    "    .with_columns(\n",
    "        pl.coalesce(\n",
    "            pl.col('cookTime_mins') + pl.col('prepTime_mins'),\n",
    "            pl.col('cookTime_mins'),\n",
    "            pl.col('prepTime_mins')\n",
    "        )\n",
    "        .alias('totalTime'),  # minutes\n",
    "    )\n",
    "\n",
    "    .with_columns(\n",
    "        pl.when(pl.col('totalTime') > 60).then('Hard')\n",
    "        .when(pl.col('totalTime') > 30)  .then('Medium')\n",
    "        .when(pl.col('totalTime') > 0)   .then('Easy')\n",
    "        .otherwise('Unknown')\n",
    "        .alias('difficulty')\n",
    "    )\n",
    "\n",
    "    .select(pl.exclude(['cookTime_mins', 'prepTime_mins']))\n",
    ")"
   ]
  },
  {
   "cell_type": "code",
   "execution_count": 74,
   "id": "99a87c2b",
   "metadata": {},
   "outputs": [
    {
     "data": {
      "text/html": [
       "<div><style>\n",
       ".dataframe > thead > tr > th,\n",
       ".dataframe > tbody > tr > td {\n",
       "  text-align: right;\n",
       "}\n",
       "</style>\n",
       "<small>shape: (3, 2)</small><table border=\"1\" class=\"dataframe\"><thead><tr><th>difficulty</th><th>AverageTotalTime</th></tr><tr><td>str</td><td>f64</td></tr></thead><tbody><tr><td>&quot;Easy&quot;</td><td>20.4</td></tr><tr><td>&quot;Hard&quot;</td><td>163.62</td></tr><tr><td>&quot;Medium&quot;</td><td>45.87</td></tr></tbody></table></div>"
      ],
      "text/plain": [
       "shape: (3, 2)\n",
       "┌────────────┬──────────────────┐\n",
       "│ difficulty ┆ AverageTotalTime │\n",
       "│ ---        ┆ ---              │\n",
       "│ str        ┆ f64              │\n",
       "╞════════════╪══════════════════╡\n",
       "│ Easy       ┆ 20.4             │\n",
       "│ Hard       ┆ 163.62           │\n",
       "│ Medium     ┆ 45.87            │\n",
       "└────────────┴──────────────────┘"
      ]
     },
     "execution_count": 74,
     "metadata": {},
     "output_type": "execute_result"
    }
   ],
   "source": [
    "(\n",
    "    df\n",
    "    .filter(pl.col('totalTime').is_not_null())\n",
    "    .groupby('difficulty')\n",
    "    .agg(\n",
    "        pl.mean('totalTime').round(2).alias('AverageTotalTime')\n",
    "    )\n",
    ")"
   ]
  },
  {
   "cell_type": "code",
   "execution_count": null,
   "id": "f1f01137",
   "metadata": {},
   "outputs": [],
   "source": []
  }
 ],
 "metadata": {
  "kernelspec": {
   "display_name": "hf",
   "language": "python",
   "name": "hf"
  },
  "language_info": {
   "codemirror_mode": {
    "name": "ipython",
    "version": 3
   },
   "file_extension": ".py",
   "mimetype": "text/x-python",
   "name": "python",
   "nbconvert_exporter": "python",
   "pygments_lexer": "ipython3",
   "version": "3.10.10"
  }
 },
 "nbformat": 4,
 "nbformat_minor": 5
}
